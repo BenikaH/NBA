{
 "cells": [
  {
   "cell_type": "code",
   "execution_count": 160,
   "metadata": {
    "collapsed": true
   },
   "outputs": [],
   "source": [
    "import nba_py\n",
    "from nba_py import *\n",
    "from nba_py.player import get_player\n",
    "from nba_py.constants import *\n",
    "from nba_py.shotchart import TeamID\n",
    "from nba_py.draftcombine import *\n",
    "from nba_py.game import *\n",
    "from nba_py.shotchart import *\n",
    "import pandas as pd\n",
    "import numpy as np\n",
    "\n",
    "from urllib.request import *\n",
    "import urllib.request, json, sys, requests"
   ]
  },
  {
   "cell_type": "code",
   "execution_count": 188,
   "metadata": {
    "collapsed": true
   },
   "outputs": [],
   "source": [
    "def parse_endpoint(block):\n",
    "    name = block[0][3:-1]\n",
    "    param_names = [line[4:] for line in block[2:]\n",
    "                   if line[4:] is not '']\n",
    "    params = [\n",
    "        {\"name\": p, \"required\": False}\n",
    "        for p in param_names\n",
    "    ]\n",
    "    return {\"endpoint\": name, \"params\": params, \"description\": None}\n",
    "\n",
    "\n",
    "def get_endpoints(path):\n",
    "    with open(path, 'r') as f:\n",
    "        md = ''.join(f.read())\n",
    "\n",
    "    endpoints = [parse_endpoint(block)\n",
    "                 for block in map(lambda s: s.split(\"\\n\"), md.split(\"\\n\\n\"))\n",
    "                 if block[0].startswith(\"##\")]\n",
    "\n",
    "    return endpoints"
   ]
  },
  {
   "cell_type": "code",
   "execution_count": 191,
   "metadata": {},
   "outputs": [
    {
     "ename": "NameError",
     "evalue": "name 'block' is not defined",
     "output_type": "error",
     "traceback": [
      "\u001b[0;31m---------------------------------------------------------------------------\u001b[0m",
      "\u001b[0;31mNameError\u001b[0m                                 Traceback (most recent call last)",
      "\u001b[0;32m<ipython-input-191-8cdf56a0552b>\u001b[0m in \u001b[0;36m<module>\u001b[0;34m()\u001b[0m\n\u001b[0;32m----> 1\u001b[0;31m \u001b[0mparse_endpoint\u001b[0m\u001b[0;34m(\u001b[0m\u001b[0mblock\u001b[0m\u001b[0;34m)\u001b[0m\u001b[0;34m\u001b[0m\u001b[0m\n\u001b[0m",
      "\u001b[0;31mNameError\u001b[0m: name 'block' is not defined"
     ]
    }
   ],
   "source": [
    "parse_endpoint(block)"
   ]
  },
  {
   "cell_type": "code",
   "execution_count": 81,
   "metadata": {},
   "outputs": [],
   "source": [
    "team_info = constants.TEAMS\n",
    "for i, info in team_info.items():\n",
    "    team_id = {i:info[\"id\"]} \n",
    "   # print(team_id)"
   ]
  },
  {
   "cell_type": "code",
   "execution_count": 161,
   "metadata": {},
   "outputs": [],
   "source": [
    "#league_tracking = \"http://stats.nba.com/stats/leaguedashptstats'\n",
    "pullup_address = \"http://stats.nba.com/js/data/sportvu/pullUpShootData.js\" \n",
    "drives_address = \"http://stats.nba.com/js/data/sportvu/drivesData.js\" \n",
    "defense_address = \"http://stats.nba.com/js/data/sportvu/defenseData.js\" \n",
    "passing_address = \"http://stats.nba.com/js/data/sportvu/passingData.js\"\n",
    "touches_address = \"http://stats.nba.com/js/data/sportvu/touchesData.js\" \n",
    "speed_address = \"http://stats.nba.com/js/data/sportvu/speedData.js\"\n",
    "rebounding_address = \"http://stats.nba.com/js/data/sportvu/reboundingData.js\"\n",
    "catchshoot_address = \"http://stats.nba.com/js/data/sportvu/catchShootData.js\" \n",
    "shooting_address = \"http://stats.nba.com/js/data/sportvu/shootingData.js\"\n",
    "\n"
   ]
  },
  {
   "cell_type": "code",
   "execution_count": 187,
   "metadata": {},
   "outputs": [],
   "source": [
    "r = requests.post(pullup_address)\n",
    "pullup_json_data = r.text #Convert JSON into Python readable object\n",
    "#print(pullup_json_data)"
   ]
  },
  {
   "cell_type": "code",
   "execution_count": null,
   "metadata": {},
   "outputs": [],
   "source": []
  },
  {
   "cell_type": "code",
   "execution_count": 138,
   "metadata": {},
   "outputs": [],
   "source": [
    "def get_game_ids():\n",
    "    game_ids = {}\n",
    "    game_info = constants.GameID\n",
    "    for i, info in game_info.items():\n",
    "        game_id = {i:info[\"id\"]} \n",
    "        game_ids.update(game_id)#append(team_id)\n",
    "    #team_ids = pd.DataFrame(team_ids)\n",
    "    return game_ids"
   ]
  },
  {
   "cell_type": "code",
   "execution_count": 139,
   "metadata": {},
   "outputs": [
    {
     "ename": "AttributeError",
     "evalue": "type object 'GameID' has no attribute 'items'",
     "output_type": "error",
     "traceback": [
      "\u001b[0;31m---------------------------------------------------------------------------\u001b[0m",
      "\u001b[0;31mAttributeError\u001b[0m                            Traceback (most recent call last)",
      "\u001b[0;32m<ipython-input-139-3df1858e773e>\u001b[0m in \u001b[0;36m<module>\u001b[0;34m()\u001b[0m\n\u001b[0;32m----> 1\u001b[0;31m \u001b[0mget_game_ids\u001b[0m\u001b[0;34m(\u001b[0m\u001b[0;34m)\u001b[0m\u001b[0;34m\u001b[0m\u001b[0m\n\u001b[0m",
      "\u001b[0;32m<ipython-input-138-83263cec2694>\u001b[0m in \u001b[0;36mget_game_ids\u001b[0;34m()\u001b[0m\n\u001b[1;32m      2\u001b[0m     \u001b[0mgame_ids\u001b[0m \u001b[0;34m=\u001b[0m \u001b[0;34m{\u001b[0m\u001b[0;34m}\u001b[0m\u001b[0;34m\u001b[0m\u001b[0m\n\u001b[1;32m      3\u001b[0m     \u001b[0mgame_info\u001b[0m \u001b[0;34m=\u001b[0m \u001b[0mconstants\u001b[0m\u001b[0;34m.\u001b[0m\u001b[0mGameID\u001b[0m\u001b[0;34m\u001b[0m\u001b[0m\n\u001b[0;32m----> 4\u001b[0;31m     \u001b[0;32mfor\u001b[0m \u001b[0mi\u001b[0m\u001b[0;34m,\u001b[0m \u001b[0minfo\u001b[0m \u001b[0;32min\u001b[0m \u001b[0mgame_info\u001b[0m\u001b[0;34m.\u001b[0m\u001b[0mitems\u001b[0m\u001b[0;34m(\u001b[0m\u001b[0;34m)\u001b[0m\u001b[0;34m:\u001b[0m\u001b[0;34m\u001b[0m\u001b[0m\n\u001b[0m\u001b[1;32m      5\u001b[0m         \u001b[0mgame_id\u001b[0m \u001b[0;34m=\u001b[0m \u001b[0;34m{\u001b[0m\u001b[0mi\u001b[0m\u001b[0;34m:\u001b[0m\u001b[0minfo\u001b[0m\u001b[0;34m[\u001b[0m\u001b[0;34m\"id\"\u001b[0m\u001b[0;34m]\u001b[0m\u001b[0;34m}\u001b[0m\u001b[0;34m\u001b[0m\u001b[0m\n\u001b[1;32m      6\u001b[0m         \u001b[0mgame_ids\u001b[0m\u001b[0;34m.\u001b[0m\u001b[0mupdate\u001b[0m\u001b[0;34m(\u001b[0m\u001b[0mgame_id\u001b[0m\u001b[0;34m)\u001b[0m\u001b[0;31m#append(team_id)\u001b[0m\u001b[0;34m\u001b[0m\u001b[0m\n",
      "\u001b[0;31mAttributeError\u001b[0m: type object 'GameID' has no attribute 'items'"
     ]
    }
   ],
   "source": [
    "get_game_ids()"
   ]
  },
  {
   "cell_type": "code",
   "execution_count": 61,
   "metadata": {},
   "outputs": [],
   "source": [
    "box = game.Boxscore('0041400122')\n",
    "\n",
    "#print(box.json[\"resultSets\"])"
   ]
  },
  {
   "cell_type": "code",
   "execution_count": null,
   "metadata": {
    "collapsed": true
   },
   "outputs": [],
   "source": []
  }
 ],
 "metadata": {
  "kernelspec": {
   "display_name": "Python 3",
   "language": "python",
   "name": "python3"
  },
  "language_info": {
   "codemirror_mode": {
    "name": "ipython",
    "version": 3
   },
   "file_extension": ".py",
   "mimetype": "text/x-python",
   "name": "python",
   "nbconvert_exporter": "python",
   "pygments_lexer": "ipython3",
   "version": "3.6.1"
  }
 },
 "nbformat": 4,
 "nbformat_minor": 2
}
