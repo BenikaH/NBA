{
 "cells": [
  {
   "cell_type": "code",
   "execution_count": 5,
   "metadata": {
    "collapsed": true
   },
   "outputs": [],
   "source": [
    "import nba_py\n",
    "from nba_py import *\n",
    "from nba_py.player import get_player\n",
    "from nba_py.constants import *\n",
    "from nba_py.shotchart import TeamID\n",
    "from nba_py.draftcombine import *\n",
    "from nba_py.game import *\n",
    "from nba_py.shotchart import *\n",
    "import pandas as pd\n",
    "import numpy as np"
   ]
  },
  {
   "cell_type": "code",
   "execution_count": 17,
   "metadata": {},
   "outputs": [
    {
     "data": {
      "text/plain": [
       "<nba_py.constants.PlusMinus at 0x112fac438>"
      ]
     },
     "execution_count": 17,
     "metadata": {},
     "output_type": "execute_result"
    }
   ],
   "source": [
    "team.PlusMinus()"
   ]
  },
  {
   "cell_type": "code",
   "execution_count": 18,
   "metadata": {},
   "outputs": [
    {
     "name": "stdout",
     "output_type": "stream",
     "text": [
      "[{'name': 'PlayerStats', 'headers': ['GAME_ID', 'TEAM_ID', 'TEAM_ABBREVIATION', 'TEAM_CITY', 'PLAYER_ID', 'PLAYER_NAME', 'START_POSITION', 'COMMENT', 'MIN', 'FGM', 'FGA', 'FG_PCT', 'FG3M', 'FG3A', 'FG3_PCT', 'FTM', 'FTA', 'FT_PCT', 'OREB', 'DREB', 'REB', 'AST', 'STL', 'BLK', 'TO', 'PF', 'PTS', 'PLUS_MINUS'], 'rowSet': [['0041400122', 1610612749, 'MIL', 'Milwaukee', 203507, 'Giannis Antetokounmpo', 'F', '', '37:52', 2, 11, 0.182, 0, 0, 0.0, 2, 2, 1.0, 2, 9, 11, 4, 2, 2, 2, 4, 6, -1.0], ['0041400122', 1610612749, 'MIL', 'Milwaukee', 101141, 'Ersan Ilyasova', 'F', '', '23:44', 3, 10, 0.3, 0, 3, 0.0, 2, 2, 1.0, 1, 5, 6, 0, 0, 1, 0, 1, 8, -6.0], ['0041400122', 1610612749, 'MIL', 'Milwaukee', 2585, 'Zaza Pachulia', 'C', '', '22:32', 3, 8, 0.375, 0, 0, 0.0, 1, 2, 0.5, 1, 5, 6, 3, 1, 2, 0, 2, 7, -2.0], ['0041400122', 1610612749, 'MIL', 'Milwaukee', 203114, 'Khris Middleton', 'G', '', '38:19', 8, 20, 0.4, 3, 7, 0.429, 3, 3, 1.0, 1, 5, 6, 0, 1, 1, 1, 2, 22, -13.0], ['0041400122', 1610612749, 'MIL', 'Milwaukee', 203487, 'Michael Carter-Williams', 'G', '', '32:51', 5, 12, 0.417, 0, 1, 0.0, 2, 3, 0.667, 0, 5, 5, 2, 1, 1, 1, 4, 12, -6.0], ['0041400122', 1610612749, 'MIL', 'Milwaukee', 203089, 'John Henson', '', '', '25:28', 4, 9, 0.444, 0, 1, 0.0, 0, 1, 0.0, 3, 3, 6, 0, 1, 2, 0, 4, 8, -7.0], ['0041400122', 1610612749, 'MIL', 'Milwaukee', 201162, 'Jared Dudley', '', '', '17:02', 1, 4, 0.25, 1, 2, 0.5, 0, 0, 0.0, 1, 2, 3, 0, 4, 0, 0, 1, 3, 2.0], ['0041400122', 1610612749, 'MIL', 'Milwaukee', 201573, 'Jerryd Bayless', '', '', '15:09', 3, 6, 0.5, 0, 0, 0.0, 2, 2, 1.0, 0, 2, 2, 1, 0, 0, 0, 2, 8, -3.0], ['0041400122', 1610612749, 'MIL', 'Milwaukee', 201564, 'O.J. Mayo', '', '', '27:03', 3, 10, 0.3, 0, 3, 0.0, 2, 2, 1.0, 0, 3, 3, 3, 0, 0, 0, 2, 8, -9.0], ['0041400122', 1610612749, 'MIL', 'Milwaukee', 203898, 'Tyler Ennis', '', \"DNP - Coach's Decision                  \", None, None, None, None, None, None, None, None, None, None, None, None, None, None, None, None, None, None, None, None], ['0041400122', 1610612749, 'MIL', 'Milwaukee', 203268, 'Jorge Gutierrez', '', \"DNP - Coach's Decision                  \", None, None, None, None, None, None, None, None, None, None, None, None, None, None, None, None, None, None, None, None], ['0041400122', 1610612749, 'MIL', 'Milwaukee', 203948, \"Johnny O'Bryant III\", '', \"DNP - Coach's Decision                  \", None, None, None, None, None, None, None, None, None, None, None, None, None, None, None, None, None, None, None, None], ['0041400122', 1610612749, 'MIL', 'Milwaukee', 203101, 'Miles Plumlee', '', \"DNP - Coach's Decision                  \", None, None, None, None, None, None, None, None, None, None, None, None, None, None, None, None, None, None, None, None], ['0041400122', 1610612741, 'CHI', 'Chicago', 2399, 'Mike Dunleavy', 'F', '', '33:24', 4, 12, 0.333, 4, 9, 0.444, 0, 0, 0.0, 1, 5, 6, 3, 0, 0, 0, 1, 12, 4.0], ['0041400122', 1610612741, 'CHI', 'Chicago', 2200, 'Pau Gasol', 'F', '', '33:35', 4, 12, 0.333, 0, 1, 0.0, 3, 6, 0.5, 2, 14, 16, 3, 0, 4, 3, 1, 11, 4.0], ['0041400122', 1610612741, 'CHI', 'Chicago', 201149, 'Joakim Noah', 'C', '', '32:19', 3, 9, 0.333, 0, 0, 0.0, 0, 0, 0.0, 4, 15, 19, 5, 0, 1, 3, 3, 6, 0.0], ['0041400122', 1610612741, 'CHI', 'Chicago', 202710, 'Jimmy Butler', 'G', '', '46:00', 10, 19, 0.526, 3, 9, 0.333, 8, 14, 0.571, 2, 7, 9, 2, 0, 1, 0, 2, 31, 12.0], ['0041400122', 1610612741, 'CHI', 'Chicago', 201565, 'Derrick Rose', 'G', '', '38:05', 4, 14, 0.286, 2, 6, 0.333, 5, 5, 1.0, 3, 4, 7, 9, 1, 1, 3, 3, 15, 8.0], ['0041400122', 1610612741, 'CHI', 'Chicago', 201959, 'Taj Gibson', '', '', '11:00', 0, 0, 0.0, 0, 0, 0.0, 0, 0, 0.0, 1, 0, 1, 0, 0, 3, 3, 4, 0, -4.0], ['0041400122', 1610612741, 'CHI', 'Chicago', 203503, 'Tony Snell', '', '', '13:21', 1, 3, 0.333, 1, 3, 0.333, 0, 0, 0.0, 0, 2, 2, 1, 0, 0, 1, 2, 3, 9.0], ['0041400122', 1610612741, 'CHI', 'Chicago', 202703, 'Nikola Mirotic', '', '', '22:21', 3, 9, 0.333, 1, 3, 0.333, 1, 2, 0.5, 1, 3, 4, 1, 1, 0, 0, 2, 8, 11.0], ['0041400122', 1610612741, 'CHI', 'Chicago', 201166, 'Aaron Brooks', '', '', '9:55', 2, 3, 0.667, 1, 2, 0.5, 0, 0, 0.0, 0, 0, 0, 2, 0, 0, 0, 1, 5, 1.0], ['0041400122', 1610612741, 'CHI', 'Chicago', 203946, 'Cameron Bairstow', '', \"DNP - Coach's Decision                  \", None, None, None, None, None, None, None, None, None, None, None, None, None, None, None, None, None, None, None, None], ['0041400122', 1610612741, 'CHI', 'Chicago', 203926, 'Doug McDermott', '', \"DNP - Coach's Decision                  \", None, None, None, None, None, None, None, None, None, None, None, None, None, None, None, None, None, None, None, None], ['0041400122', 1610612741, 'CHI', 'Chicago', 1737, 'Nazr Mohammed', '', \"DNP - Coach's Decision                  \", None, None, None, None, None, None, None, None, None, None, None, None, None, None, None, None, None, None, None, None], ['0041400122', 1610612741, 'CHI', 'Chicago', 202734, \"E'Twaun Moore\", '', \"DNP - Coach's Decision                  \", None, None, None, None, None, None, None, None, None, None, None, None, None, None, None, None, None, None, None, None]]}, {'name': 'TeamStats', 'headers': ['GAME_ID', 'TEAM_ID', 'TEAM_NAME', 'TEAM_ABBREVIATION', 'TEAM_CITY', 'MIN', 'FGM', 'FGA', 'FG_PCT', 'FG3M', 'FG3A', 'FG3_PCT', 'FTM', 'FTA', 'FT_PCT', 'OREB', 'DREB', 'REB', 'AST', 'STL', 'BLK', 'TO', 'PF', 'PTS', 'PLUS_MINUS'], 'rowSet': [['0041400122', 1610612749, 'Bucks', 'MIL', 'Milwaukee', '240:00', 32, 90, 0.356, 4, 17, 0.235, 14, 17, 0.824, 9, 39, 48, 13, 10, 9, 4, 22, 82, -9.0], ['0041400122', 1610612741, 'Bulls', 'CHI', 'Chicago', '240:00', 31, 81, 0.383, 12, 33, 0.364, 17, 27, 0.63, 14, 50, 64, 26, 2, 10, 13, 19, 91, 9.0]]}, {'name': 'TeamStarterBenchStats', 'headers': ['GAME_ID', 'TEAM_ID', 'TEAM_NAME', 'TEAM_ABBREVIATION', 'TEAM_CITY', 'STARTERS_BENCH', 'MIN', 'FGM', 'FGA', 'FG_PCT', 'FG3M', 'FG3A', 'FG3_PCT', 'FTM', 'FTA', 'FT_PCT', 'OREB', 'DREB', 'REB', 'AST', 'STL', 'BLK', 'TO', 'PF', 'PTS'], 'rowSet': [['0041400122', 1610612749, 'Bucks', 'MIL', 'Milwaukee', 'Starters', '155:18', 21, 61, 0.344, 3, 11, 0.273, 10, 12, 0.833, 5, 29, 34, 9, 5, 7, 4, 13, 55], ['0041400122', 1610612749, 'Bucks', 'MIL', 'Milwaukee', 'Bench', '84:42', 11, 29, 0.379, 1, 6, 0.167, 4, 5, 0.8, 4, 10, 14, 4, 5, 2, 0, 9, 27], ['0041400122', 1610612741, 'Bulls', 'CHI', 'Chicago', 'Starters', '183:23', 25, 66, 0.379, 9, 25, 0.36, 16, 25, 0.64, 12, 45, 57, 22, 1, 7, 9, 10, 75], ['0041400122', 1610612741, 'Bulls', 'CHI', 'Chicago', 'Bench', '56:37', 6, 15, 0.4, 3, 8, 0.375, 1, 2, 0.5, 2, 5, 7, 4, 1, 3, 4, 9, 16]]}]\n"
     ]
    }
   ],
   "source": [
    "box = game.Boxscore('0041400122')\n",
    "print(box.json[\"resultSets\"])"
   ]
  },
  {
   "cell_type": "code",
   "execution_count": 32,
   "metadata": {
    "collapsed": true
   },
   "outputs": [],
   "source": [
    "players = player.PlayerList()\n",
    "\n",
    "\n"
   ]
  },
  {
   "cell_type": "code",
   "execution_count": 39,
   "metadata": {},
   "outputs": [
    {
     "name": "stdout",
     "output_type": "stream",
     "text": [
      "dict_keys(['ATL', 'BOS', 'BKN', 'CHA', 'CHI', 'CLE', 'DAL', 'DEN', 'DET', 'GSW', 'HOU', 'IND', 'LAC', 'LAL', 'MEM', 'MIA', 'MIL', 'MIN', 'NOP', 'NYK', 'OKC', 'ORL', 'PHI', 'PHX', 'POR', 'SAC', 'SAS', 'TOR', 'UTA', 'WAS'])\n"
     ]
    }
   ],
   "source": [
    "teams = TEAMS.keys()\n",
    "print(teams)"
   ]
  },
  {
   "cell_type": "code",
   "execution_count": null,
   "metadata": {
    "collapsed": true
   },
   "outputs": [],
   "source": []
  }
 ],
 "metadata": {
  "kernelspec": {
   "display_name": "Python 3",
   "language": "python",
   "name": "python3"
  },
  "language_info": {
   "codemirror_mode": {
    "name": "ipython",
    "version": 3
   },
   "file_extension": ".py",
   "mimetype": "text/x-python",
   "name": "python",
   "nbconvert_exporter": "python",
   "pygments_lexer": "ipython3",
   "version": "3.6.1"
  }
 },
 "nbformat": 4,
 "nbformat_minor": 2
}
