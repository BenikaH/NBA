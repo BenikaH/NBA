{
 "cells": [
  {
   "cell_type": "code",
   "execution_count": 19,
   "metadata": {
    "collapsed": true
   },
   "outputs": [],
   "source": [
    "import pandas as pd\n",
    "import numpy as np\n",
    "from urllib.request import *\n",
    "import urllib.request, json, sys, requests\n",
    "from urllib.request import *\n",
    "import json"
   ]
  },
  {
   "cell_type": "code",
   "execution_count": 11,
   "metadata": {
    "collapsed": true
   },
   "outputs": [],
   "source": [
    "player_transition= \"http://stats.nba.com/js/data/playtype/player_Transition.js\"\n",
    "player_isolation= \"http://stats.nba.com/js/data/playtype/player_Isolation.js\"\n",
    "player_ball_handler = \"http://stats.nba.com/js/data/playtype/player_PRBallHandler.js\"\n",
    "player_post_up = \"http://stats.nba.com/js/data/playtype/player_Postup.js\"\n",
    "player_hand_off = \"http://stats.nba.com/js/data/playtype/player_Handoff.js\"\n",
    "player_cut = \"http://stats.nba.com/js/data/playtype/player_Cut.js\"\n",
    "player_putbacks = \"http://stats.nba.com/js/data/playtype/player_OffRebound.js\"\n",
    "player_roll_man = \"http://stats.nba.com/js/data/playtype/player_PRRollman.js\""
   ]
  },
  {
   "cell_type": "code",
   "execution_count": 23,
   "metadata": {},
   "outputs": [],
   "source": [
    "transition = requests.get(player_transition)\n",
    "\n",
    "isolation = requests.get(player_isolation)\n",
    "\n",
    "ball_handler = requests.get(player_ball_handler)\n",
    "\n",
    "post_up = requests.get(player_post_up)\n",
    "\n",
    "cut = requests.get(player_cut)\n",
    "\n",
    "handoff = requests.get(player_hand_off)\n",
    "\n",
    "putbacks = requests.get(player_putbacks)\n",
    "\n",
    "roll_man = requests.get(player_roll_man)\n",
    "\n",
    "data = json.loads(transition.text)\n"
   ]
  },
  {
   "cell_type": "code",
   "execution_count": 36,
   "metadata": {},
   "outputs": [
    {
     "data": {
      "text/plain": [
       "{'PlayType': 'Transition',\n",
       " 'ReportType': 'PlayersByPlayType',\n",
       " 'RequestedPlayType': 'Transition',\n",
       " 'RequestedSeason': 2015,\n",
       " 'RequestedSeasonType': 'Reg',\n",
       " 'Season': 2015,\n",
       " 'SeasonType': 'Reg'}"
      ]
     },
     "execution_count": 36,
     "metadata": {},
     "output_type": "execute_result"
    }
   ],
   "source": [
    "data['parameters']"
   ]
  },
  {
   "cell_type": "code",
   "execution_count": 37,
   "metadata": {
    "collapsed": true
   },
   "outputs": [],
   "source": [
    "players = []  \n",
    "player_stats = {'name':None,'avg_dribbles':None,'avg_touch_time':None,'avg_shot_distance':None,'avg_defender_distance':None}\n",
    "\n",
    "def find_stats(name,player_id):  \n",
    "    #NBA Stats API using selected player ID\n",
    "    url = 'http://stats.nba.com/stats/playerdashptshotlog?'+ \\\n",
    "    'DateFrom=&DateTo=&GameSegment=&LastNGames=0&LeagueID=00&' + \\\n",
    "    'Location=&Month=0&OpponentTeamID=0&Outcome=&Period=0&' + \\\n",
    "    'PlayerID='+player_id+'&Season=2014-15&SeasonSegment=&' + \\\n",
    "    'SeasonType=Regular+Season&TeamID=0&VsConference=&VsDivision='\n",
    "\n",
    "    #Create Dict based on JSON response\n",
    "    response = requests.get(url)\n",
    "    shots = response.json()['resultSets'][0]['rowSet']\n",
    "    data = json.loads(response.text)\n",
    "\n",
    "    #Create df from data and find averages \n",
    "    headers = data['resultSets'][0]['headers']\n",
    "    shot_data = data['resultSets'][0]['rowSet']\n",
    "    df = pd.DataFrame(shot_data,columns=headers) \n",
    "    avg_def = df['CLOSE_DEF_DIST'].mean(axis=1)\n",
    "    avg_dribbles = df['DRIBBLES'].mean(axis=1)\n",
    "    avg_shot_distance = df['SHOT_DIST'].mean(axis=1)\n",
    "    avg_touch_time = df['TOUCH_TIME'].mean(axis=1)\n",
    "\n",
    "    #add Averages to dictionary then to list\n",
    "    player_stats['name'] = name\n",
    "    player_stats['avg_defender_distance']=avg_def\n",
    "    player_stats['avg_shot_distance'] = avg_shot_distance\n",
    "    player_stats['avg_touch_time'] = avg_touch_time\n",
    "    player_stats['avg_dribbles'] = avg_dribbles\n",
    "    players.append(player_stats.copy())"
   ]
  },
  {
   "cell_type": "code",
   "execution_count": 38,
   "metadata": {},
   "outputs": [
    {
     "ename": "NameError",
     "evalue": "name 'teams' is not defined",
     "output_type": "error",
     "traceback": [
      "\u001b[0;31m---------------------------------------------------------------------------\u001b[0m",
      "\u001b[0;31mNameError\u001b[0m                                 Traceback (most recent call last)",
      "\u001b[0;32m<ipython-input-38-19527078d227>\u001b[0m in \u001b[0;36m<module>\u001b[0;34m()\u001b[0m\n\u001b[0;32m----> 1\u001b[0;31m \u001b[0;32mfor\u001b[0m \u001b[0mx\u001b[0m \u001b[0;32min\u001b[0m \u001b[0mteams\u001b[0m\u001b[0;34m:\u001b[0m\u001b[0;34m\u001b[0m\u001b[0m\n\u001b[0m\u001b[1;32m      2\u001b[0m     \u001b[0;32mfor\u001b[0m \u001b[0my\u001b[0m \u001b[0;32min\u001b[0m \u001b[0mteams\u001b[0m\u001b[0;34m[\u001b[0m\u001b[0mx\u001b[0m\u001b[0;34m]\u001b[0m\u001b[0;34m:\u001b[0m\u001b[0;34m\u001b[0m\u001b[0m\n\u001b[1;32m      3\u001b[0m         \u001b[0mfind_stats\u001b[0m\u001b[0;34m(\u001b[0m\u001b[0my\u001b[0m\u001b[0;34m,\u001b[0m\u001b[0mteams\u001b[0m\u001b[0;34m[\u001b[0m\u001b[0mx\u001b[0m\u001b[0;34m]\u001b[0m\u001b[0;34m[\u001b[0m\u001b[0my\u001b[0m\u001b[0;34m]\u001b[0m\u001b[0;34m)\u001b[0m\u001b[0;34m\u001b[0m\u001b[0m\n",
      "\u001b[0;31mNameError\u001b[0m: name 'teams' is not defined"
     ]
    }
   ],
   "source": [
    "for x in teams:  \n",
    "    for y in teams[x]:\n",
    "        find_stats(y,teams[x][y])"
   ]
  },
  {
   "cell_type": "code",
   "execution_count": null,
   "metadata": {
    "collapsed": true
   },
   "outputs": [],
   "source": [
    "cols = ['name','avg_defender_distance','avg_dribbles','avg_shot_distance','avg_touch_time']  \n",
    "df = pd.DataFrame(players,columns = cols)  "
   ]
  }
 ],
 "metadata": {
  "kernelspec": {
   "display_name": "Python 3",
   "language": "python",
   "name": "python3"
  },
  "language_info": {
   "codemirror_mode": {
    "name": "ipython",
    "version": 3
   },
   "file_extension": ".py",
   "mimetype": "text/x-python",
   "name": "python",
   "nbconvert_exporter": "python",
   "pygments_lexer": "ipython3",
   "version": "3.6.1"
  }
 },
 "nbformat": 4,
 "nbformat_minor": 2
}
